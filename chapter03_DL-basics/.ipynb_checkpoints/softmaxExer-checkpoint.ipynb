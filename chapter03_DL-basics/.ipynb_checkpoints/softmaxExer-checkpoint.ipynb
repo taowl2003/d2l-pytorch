{
 "cells": [
  {
   "cell_type": "code",
   "execution_count": 1,
   "id": "a821b3d5",
   "metadata": {
    "ExecuteTime": {
     "end_time": "2021-06-16T09:38:21.274308Z",
     "start_time": "2021-06-16T09:38:20.341483Z"
    }
   },
   "outputs": [],
   "source": [
    "import torch\n",
    "import torchvision\n",
    "import numpy as np\n",
    "import sys\n",
    "sys.path.append(\"..\") # 为了导入上层目录的d2lzh_pytorch\n",
    "import d2lzh_pytorch as d2l"
   ]
  },
  {
   "cell_type": "code",
   "execution_count": 2,
   "id": "fd8b321e",
   "metadata": {
    "ExecuteTime": {
     "end_time": "2021-06-16T09:38:21.306305Z",
     "start_time": "2021-06-16T09:38:21.275308Z"
    }
   },
   "outputs": [],
   "source": [
    "batch_size = 256\n",
    "train_iter, test_iter = d2l.load_data_fashion_mnist(batch_size)"
   ]
  },
  {
   "cell_type": "code",
   "execution_count": 3,
   "id": "2704296e",
   "metadata": {
    "ExecuteTime": {
     "end_time": "2021-06-16T09:38:21.322266Z",
     "start_time": "2021-06-16T09:38:21.307306Z"
    }
   },
   "outputs": [
    {
     "data": {
      "text/plain": [
       "tensor([0., 0., 0., 0., 0., 0., 0., 0., 0., 0.], requires_grad=True)"
      ]
     },
     "execution_count": 3,
     "metadata": {},
     "output_type": "execute_result"
    }
   ],
   "source": [
    "num_inputs = 784\n",
    "num_outputs = 10\n",
    "\n",
    "W = torch.tensor(np.random.normal(0, 0.01, (num_inputs,num_outputs)), dtype=torch.float)\n",
    "b = torch.zeros(num_outputs, dtype=torch.float)\n",
    "W.requires_grad_(requires_grad=True)\n",
    "b.requires_grad_(requires_grad=True)"
   ]
  },
  {
   "cell_type": "code",
   "execution_count": 4,
   "id": "eb100100",
   "metadata": {
    "ExecuteTime": {
     "end_time": "2021-06-16T09:38:21.338359Z",
     "start_time": "2021-06-16T09:38:21.323263Z"
    }
   },
   "outputs": [],
   "source": [
    "def softmax(X):\n",
    "    X_exp = X.exp()\n",
    "    partition = X_exp.sum(dim=1,keepdim=True)\n",
    "    return X_exp / partition"
   ]
  },
  {
   "cell_type": "code",
   "execution_count": 5,
   "id": "adfa4f88",
   "metadata": {
    "ExecuteTime": {
     "end_time": "2021-06-16T09:38:21.354440Z",
     "start_time": "2021-06-16T09:38:21.339357Z"
    }
   },
   "outputs": [],
   "source": [
    "def net(X):\n",
    "    return softmax(torch.mm(X.view((-1, num_inputs)), W) +b)"
   ]
  },
  {
   "cell_type": "code",
   "execution_count": 6,
   "id": "c4b02e03",
   "metadata": {
    "ExecuteTime": {
     "end_time": "2021-06-16T09:38:21.369578Z",
     "start_time": "2021-06-16T09:38:21.355437Z"
    }
   },
   "outputs": [],
   "source": [
    "def cross_entropy(y_hat, y):\n",
    "    return - torch.log(y_hat.gather(1, y.view(-1,1)))"
   ]
  },
  {
   "cell_type": "code",
   "execution_count": 7,
   "id": "d8a8f1a4",
   "metadata": {
    "ExecuteTime": {
     "end_time": "2021-06-16T09:38:21.385380Z",
     "start_time": "2021-06-16T09:38:21.370575Z"
    }
   },
   "outputs": [],
   "source": [
    "def accuracy(y_hat, y):\n",
    "    return (y_hat.argmax(dim=1)==y).float().mean().item()"
   ]
  },
  {
   "cell_type": "code",
   "execution_count": 8,
   "id": "715d603c",
   "metadata": {
    "ExecuteTime": {
     "end_time": "2021-06-16T09:38:21.400541Z",
     "start_time": "2021-06-16T09:38:21.387349Z"
    }
   },
   "outputs": [],
   "source": [
    "def evaluate_accuracy(data_iter,net):\n",
    "    acc_sum, n=0.0, 0\n",
    "    for X, y in data_iter:\n",
    "        acc_sum += (net(X).argmax(dim=1)==y).float().sum().item()\n",
    "        n += y.shape[0]\n",
    "    return acc_sum / n"
   ]
  },
  {
   "cell_type": "code",
   "execution_count": 9,
   "id": "aed43764",
   "metadata": {
    "ExecuteTime": {
     "end_time": "2021-06-16T09:38:43.027659Z",
     "start_time": "2021-06-16T09:38:21.401511Z"
    }
   },
   "outputs": [
    {
     "name": "stdout",
     "output_type": "stream",
     "text": [
      "epoch 5, loss 0.4856, train acc 0.836, test acc 0.826\n"
     ]
    }
   ],
   "source": [
    "num_epochs, lr = 5, 0.1\n",
    "\n",
    "def train_ch3(net, train_iter, test_iter, loss, num_epochs, batch_size, params=None, lr=None, optimizer=None):\n",
    "    for epoch in range(num_epochs):\n",
    "        train_l_sum, train_acc_sum, n = 0.0, 0.0, 0\n",
    "        for X, y in train_iter:\n",
    "            y_hat = net(X)\n",
    "            l = loss(y_hat, y).sum()\n",
    "            \n",
    "            if optimizer is not None:\n",
    "                optimizer.zero_grad()\n",
    "            elif params is not None and params[0].grad is not None:\n",
    "                for param in params:\n",
    "                    param.grad.data.zero_()\n",
    "            \n",
    "            l.backward()\n",
    "            if optimizer is None:\n",
    "                d2l.sgd(params, lr, batch_size)\n",
    "            else:                \n",
    "                optimizer.step()\n",
    "            \n",
    "            \n",
    "            train_l_sum += l.item()\n",
    "            train_acc_sum += (y_hat.argmax(dim=1)==y).sum().item()\n",
    "            n += y.shape[0]\n",
    "        test_acc = evaluate_accuracy(test_iter, net)\n",
    "        print('epoch %d, loss %.4f, train acc %.3f, test acc %.3f'\n",
    "             % (epoch+1, train_l_sum/n, train_acc_sum/n, test_acc))\n",
    "        \n",
    "train_ch3(net, train_iter, test_iter, cross_entropy, num_epochs, batch_size, [W, b], lr)"
   ]
  },
  {
   "cell_type": "code",
   "execution_count": 10,
   "id": "f51a4ed1",
   "metadata": {
    "ExecuteTime": {
     "end_time": "2021-06-16T09:38:43.758705Z",
     "start_time": "2021-06-16T09:38:43.028657Z"
    }
   },
   "outputs": [
    {
     "name": "stdout",
     "output_type": "stream",
     "text": [
      "0.5\n",
      "0.8262\n"
     ]
    }
   ],
   "source": [
    "y_hat = torch.tensor([[0.3, 0.6, 0.1], [0.3, 0.2, 0.5]])\n",
    "y = torch.LongTensor([0, 2])\n",
    "y_hat.gather(1, y.view(-1, 1))\n",
    "print(accuracy(y_hat, y))\n",
    "print(evaluate_accuracy(test_iter, net))"
   ]
  }
 ],
 "metadata": {
  "kernelspec": {
   "display_name": "Python 3",
   "language": "python",
   "name": "python3"
  },
  "language_info": {
   "codemirror_mode": {
    "name": "ipython",
    "version": 3
   },
   "file_extension": ".py",
   "mimetype": "text/x-python",
   "name": "python",
   "nbconvert_exporter": "python",
   "pygments_lexer": "ipython3",
   "version": "3.8.10"
  },
  "varInspector": {
   "cols": {
    "lenName": 16,
    "lenType": 16,
    "lenVar": 40
   },
   "kernels_config": {
    "python": {
     "delete_cmd_postfix": "",
     "delete_cmd_prefix": "del ",
     "library": "var_list.py",
     "varRefreshCmd": "print(var_dic_list())"
    },
    "r": {
     "delete_cmd_postfix": ") ",
     "delete_cmd_prefix": "rm(",
     "library": "var_list.r",
     "varRefreshCmd": "cat(var_dic_list()) "
    }
   },
   "types_to_exclude": [
    "module",
    "function",
    "builtin_function_or_method",
    "instance",
    "_Feature"
   ],
   "window_display": true
  }
 },
 "nbformat": 4,
 "nbformat_minor": 5
}
