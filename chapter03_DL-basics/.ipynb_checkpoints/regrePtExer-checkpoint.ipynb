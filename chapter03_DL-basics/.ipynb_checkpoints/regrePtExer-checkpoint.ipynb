{
 "cells": [
  {
   "cell_type": "code",
   "execution_count": 12,
   "id": "3166c3da",
   "metadata": {
    "ExecuteTime": {
     "end_time": "2021-06-21T08:09:35.925852Z",
     "start_time": "2021-06-21T08:09:35.915876Z"
    }
   },
   "outputs": [],
   "source": [
    "%matplotlib inline\n",
    "import torch\n",
    "from IPython import display\n",
    "from matplotlib import pyplot as plt\n",
    "import numpy as np\n",
    "import random\n",
    "\n",
    "import os\n",
    "os.environ[\"KMP_DUPLICATE_LIB_OK\"]  =  \"TRUE\""
   ]
  },
  {
   "cell_type": "code",
   "execution_count": 13,
   "id": "93a439ca",
   "metadata": {
    "ExecuteTime": {
     "end_time": "2021-06-21T08:09:35.941777Z",
     "start_time": "2021-06-21T08:09:35.926817Z"
    }
   },
   "outputs": [],
   "source": [
    "num_inputs = 2\n",
    "num_examples = 1000\n",
    "true_w = [2, -3.4]\n",
    "true_b = 4.2\n",
    "features = torch.tensor(np.random.normal(0, 1, (num_examples, num_inputs)), dtype=torch.float)\n",
    "labels = true_w[0] * features[:, 0] + true_w[1] * features[:, 1] + true_b\n",
    "labels += torch.tensor(np.random.normal(0, 0.01, size=labels.size()), dtype=torch.float)"
   ]
  },
  {
   "cell_type": "code",
   "execution_count": 14,
   "id": "eb9fad21",
   "metadata": {
    "ExecuteTime": {
     "end_time": "2021-06-21T08:09:35.957975Z",
     "start_time": "2021-06-21T08:09:35.943775Z"
    }
   },
   "outputs": [],
   "source": [
    "batch_size = 10"
   ]
  },
  {
   "cell_type": "code",
   "execution_count": 15,
   "id": "fa25da32",
   "metadata": {
    "ExecuteTime": {
     "end_time": "2021-06-21T08:09:35.973800Z",
     "start_time": "2021-06-21T08:09:35.958740Z"
    }
   },
   "outputs": [
    {
     "name": "stdout",
     "output_type": "stream",
     "text": [
      "tensor([[ 0.3678, -0.2020],\n",
      "        [ 0.7015,  0.1579],\n",
      "        [ 2.6637, -0.0442],\n",
      "        [ 0.2539,  1.0343],\n",
      "        [-1.5512,  0.1465],\n",
      "        [-0.4198,  0.1710],\n",
      "        [ 0.7243,  0.6127],\n",
      "        [-2.1002,  0.0613],\n",
      "        [ 0.7158,  0.0743],\n",
      "        [ 0.1551, -0.4660]]) tensor([ 5.6194,  5.0792,  9.6775,  1.1820,  0.5894,  2.7863,  3.5651, -0.2236,\n",
      "         5.3710,  6.0979])\n"
     ]
    }
   ],
   "source": [
    "# torch_1\n",
    "import torch.utils.data as Data\n",
    "dataset = Data.TensorDataset(features, labels)\n",
    "data_iter = Data.DataLoader(dataset,batch_size,shuffle=True)\n",
    "\n",
    "for X,y in data_iter:\n",
    "    print(X,y)\n",
    "    break"
   ]
  },
  {
   "cell_type": "code",
   "execution_count": 16,
   "id": "e34b591b",
   "metadata": {
    "ExecuteTime": {
     "end_time": "2021-06-21T08:09:35.989791Z",
     "start_time": "2021-06-21T08:09:35.974699Z"
    },
    "code_folding": [
     2,
     14
    ]
   },
   "outputs": [
    {
     "name": "stdout",
     "output_type": "stream",
     "text": [
      "LinearNet(\n",
      "  (linear): Linear(in_features=2, out_features=1, bias=True)\n",
      ")\n",
      "Sequential(\n",
      "  (0): Linear(in_features=2, out_features=1, bias=True)\n",
      ")\n",
      "Sequential(\n",
      "  (linear): Linear(in_features=2, out_features=1, bias=True)\n",
      ")\n",
      "Sequential(\n",
      "  (linear): Linear(in_features=2, out_features=1, bias=True)\n",
      ")\n",
      "Parameter containing:\n",
      "tensor([[0.6249, 0.0886]], requires_grad=True)\n",
      "Parameter containing:\n",
      "tensor([0.1246], requires_grad=True)\n"
     ]
    }
   ],
   "source": [
    "import torch.nn as nn\n",
    "\n",
    "class LinearNet(nn.Module):\n",
    "    def __init__(self, n_feature):\n",
    "        super(LinearNet,self).__init__()\n",
    "        self.linear = nn.Linear(n_feature,1)\n",
    "    # forward\n",
    "    def forward(self, x):\n",
    "        y = self.linear(x)\n",
    "        return y\n",
    "    \n",
    "net = LinearNet(num_inputs)    #0\n",
    "print(net)\n",
    "\n",
    "net = nn.Sequential(           #1\n",
    "    nn.Linear(num_inputs,1)\n",
    ")\n",
    "print(net)\n",
    "\n",
    "net = nn.Sequential()         #2\n",
    "net.add_module('linear',nn.Linear(num_inputs,1))\n",
    "print(net)\n",
    "\n",
    "from collections import OrderedDict #3\n",
    "net = nn.Sequential(OrderedDict([\n",
    "    ('linear',nn.Linear(num_inputs,1))\n",
    "]))\n",
    "print(net)\n",
    "\n",
    "for param in net.parameters():\n",
    "    print(param)"
   ]
  },
  {
   "cell_type": "code",
   "execution_count": 17,
   "id": "6ec3482f",
   "metadata": {
    "ExecuteTime": {
     "end_time": "2021-06-21T08:09:36.005749Z",
     "start_time": "2021-06-21T08:09:35.990788Z"
    }
   },
   "outputs": [
    {
     "data": {
      "text/plain": [
       "Parameter containing:\n",
       "tensor([0.], requires_grad=True)"
      ]
     },
     "execution_count": 17,
     "metadata": {},
     "output_type": "execute_result"
    }
   ],
   "source": [
    "# torch_2\n",
    "net = nn.Sequential()         #2\n",
    "net.add_module('linear',nn.Linear(num_inputs,1))\n",
    "\n",
    "from torch.nn import init\n",
    "\n",
    "init.normal_(net[0].weight,mean=0,std=0.01)\n",
    "init.constant_(net[0].bias,val=0)"
   ]
  },
  {
   "cell_type": "code",
   "execution_count": 18,
   "id": "aac99116",
   "metadata": {
    "ExecuteTime": {
     "end_time": "2021-06-21T08:09:36.021939Z",
     "start_time": "2021-06-21T08:09:36.006745Z"
    }
   },
   "outputs": [
    {
     "name": "stdout",
     "output_type": "stream",
     "text": [
      "SGD (\n",
      "Parameter Group 0\n",
      "    dampening: 0\n",
      "    lr: 0.03\n",
      "    momentum: 0\n",
      "    nesterov: False\n",
      "    weight_decay: 0\n",
      ")\n"
     ]
    }
   ],
   "source": [
    "# torch_3\n",
    "loss = nn.MSELoss()\n",
    "\n",
    "import torch.optim as optim\n",
    "\n",
    "optimizer = optim.SGD(net.parameters(), lr=0.03)\n",
    "print(optimizer)"
   ]
  },
  {
   "cell_type": "code",
   "execution_count": 19,
   "id": "49650498",
   "metadata": {
    "ExecuteTime": {
     "end_time": "2021-06-21T08:09:36.037771Z",
     "start_time": "2021-06-21T08:09:36.023734Z"
    }
   },
   "outputs": [],
   "source": [
    "for param_group in optimizer.param_groups:\n",
    "    param_group['lr'] *= 0.1"
   ]
  },
  {
   "cell_type": "code",
   "execution_count": 20,
   "id": "576c0cce",
   "metadata": {
    "ExecuteTime": {
     "end_time": "2021-06-21T08:09:36.131914Z",
     "start_time": "2021-06-21T08:09:36.038771Z"
    }
   },
   "outputs": [
    {
     "name": "stdout",
     "output_type": "stream",
     "text": [
      "epoch 1, loss: 21.526468\n",
      "epoch 2, loss: 1.642940\n",
      "epoch 3, loss: 1.231167\n"
     ]
    }
   ],
   "source": [
    "# torch_4\n",
    "num_epochs = 3\n",
    "for epoch in range(1,num_epochs+1):\n",
    "    for X,y in data_iter:\n",
    "        output = net(X)\n",
    "        l = loss(output, y.view(-1,1))\n",
    "        optimizer.zero_grad()\n",
    "        l.backward()\n",
    "        optimizer.step()\n",
    "    print('epoch %d, loss: %f' % (epoch, l.item()))"
   ]
  },
  {
   "cell_type": "code",
   "execution_count": 21,
   "id": "5bfe4e4d",
   "metadata": {
    "ExecuteTime": {
     "end_time": "2021-06-21T08:09:36.147985Z",
     "start_time": "2021-06-21T08:09:36.132912Z"
    }
   },
   "outputs": [
    {
     "name": "stdout",
     "output_type": "stream",
     "text": [
      "[2, -3.4] Parameter containing:\n",
      "tensor([[ 1.7299, -2.8442]], requires_grad=True)\n",
      "4.2 Parameter containing:\n",
      "tensor([3.4965], requires_grad=True)\n"
     ]
    }
   ],
   "source": [
    "dense = net[0]\n",
    "print(true_w,dense.weight)\n",
    "print(true_b,dense.bias)"
   ]
  }
 ],
 "metadata": {
  "kernelspec": {
   "display_name": "Python 3",
   "language": "python",
   "name": "python3"
  },
  "language_info": {
   "codemirror_mode": {
    "name": "ipython",
    "version": 3
   },
   "file_extension": ".py",
   "mimetype": "text/x-python",
   "name": "python",
   "nbconvert_exporter": "python",
   "pygments_lexer": "ipython3",
   "version": "3.8.10"
  },
  "toc": {
   "base_numbering": 1,
   "nav_menu": {},
   "number_sections": true,
   "sideBar": true,
   "skip_h1_title": false,
   "title_cell": "Table of Contents",
   "title_sidebar": "Contents",
   "toc_cell": false,
   "toc_position": {},
   "toc_section_display": true,
   "toc_window_display": false
  },
  "varInspector": {
   "cols": {
    "lenName": 16,
    "lenType": 16,
    "lenVar": 40
   },
   "kernels_config": {
    "python": {
     "delete_cmd_postfix": "",
     "delete_cmd_prefix": "del ",
     "library": "var_list.py",
     "varRefreshCmd": "print(var_dic_list())"
    },
    "r": {
     "delete_cmd_postfix": ") ",
     "delete_cmd_prefix": "rm(",
     "library": "var_list.r",
     "varRefreshCmd": "cat(var_dic_list()) "
    }
   },
   "position": {
    "height": "403.667px",
    "left": "761.667px",
    "right": "20px",
    "top": "168px",
    "width": "454px"
   },
   "types_to_exclude": [
    "module",
    "function",
    "builtin_function_or_method",
    "instance",
    "_Feature"
   ],
   "window_display": true
  }
 },
 "nbformat": 4,
 "nbformat_minor": 5
}
