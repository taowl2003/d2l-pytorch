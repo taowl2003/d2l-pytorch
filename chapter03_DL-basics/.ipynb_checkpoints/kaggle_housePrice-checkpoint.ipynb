{
 "cells": [
  {
   "cell_type": "code",
   "execution_count": null,
   "id": "a9a0db7b",
   "metadata": {
    "ExecuteTime": {
     "start_time": "2021-06-21T08:02:33.228Z"
    }
   },
   "outputs": [],
   "source": [
    "# 如果没有安装pandas，则反注释下面一行\n",
    "# !pip install pandas\n",
    "\n",
    "%matplotlib inline\n",
    "import torch\n",
    "import torch.nn as nn\n",
    "import numpy as np\n",
    "import pandas as pd\n",
    "import sys\n",
    "sys.path.append(\"..\") \n",
    "import d2lzh_pytorch as d2l\n",
    "\n",
    "print(torch.__version__)\n",
    "torch.set_default_tensor_type(torch.FloatTensor)"
   ]
  }
 ],
 "metadata": {
  "kernelspec": {
   "display_name": "Python 3",
   "language": "python",
   "name": "python3"
  }
 },
 "nbformat": 4,
 "nbformat_minor": 5
}
