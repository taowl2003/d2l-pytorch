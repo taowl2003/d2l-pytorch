{
 "cells": [
  {
   "cell_type": "code",
   "execution_count": 1,
   "id": "1b0ef49a",
   "metadata": {
    "ExecuteTime": {
     "end_time": "2021-06-21T08:08:45.142457Z",
     "start_time": "2021-06-21T08:08:44.192831Z"
    }
   },
   "outputs": [],
   "source": [
    "import torch\n",
    "import torchvision\n",
    "import numpy as np\n",
    "import sys\n",
    "sys.path.append(\"..\") # 为了导入上层目录的d2lzh_pytorch\n",
    "import d2lzh_pytorch as d2l"
   ]
  },
  {
   "cell_type": "code",
   "execution_count": 2,
   "id": "36e0e4cc",
   "metadata": {
    "ExecuteTime": {
     "end_time": "2021-06-21T08:08:45.296823Z",
     "start_time": "2021-06-21T08:08:45.143457Z"
    }
   },
   "outputs": [],
   "source": [
    "batch_size = 256\n",
    "train_iter, test_iter = d2l.load_data_fashion_mnist(batch_size)"
   ]
  },
  {
   "cell_type": "code",
   "execution_count": 3,
   "id": "47d3f1a6",
   "metadata": {
    "ExecuteTime": {
     "end_time": "2021-06-21T08:08:45.312682Z",
     "start_time": "2021-06-21T08:08:45.297722Z"
    }
   },
   "outputs": [
    {
     "data": {
      "text/plain": [
       "tensor([0., 0., 0., 0., 0., 0., 0., 0., 0., 0.], requires_grad=True)"
      ]
     },
     "execution_count": 3,
     "metadata": {},
     "output_type": "execute_result"
    }
   ],
   "source": [
    "num_inputs = 784\n",
    "num_outputs = 10\n",
    "\n",
    "W = torch.tensor(np.random.normal(0, 0.01, (num_inputs,num_outputs)), dtype=torch.float)\n",
    "b = torch.zeros(num_outputs, dtype=torch.float)\n",
    "W.requires_grad_(requires_grad=True)\n",
    "b.requires_grad_(requires_grad=True)"
   ]
  },
  {
   "cell_type": "code",
   "execution_count": 4,
   "id": "d4d24b18",
   "metadata": {
    "ExecuteTime": {
     "end_time": "2021-06-21T08:08:45.327922Z",
     "start_time": "2021-06-21T08:08:45.313679Z"
    }
   },
   "outputs": [],
   "source": [
    "def softmax(X):\n",
    "    X_exp = X.exp()\n",
    "    partition = X_exp.sum(dim=1,keepdim=True)\n",
    "    return X_exp / partition"
   ]
  },
  {
   "cell_type": "code",
   "execution_count": 5,
   "id": "eed0d654",
   "metadata": {
    "ExecuteTime": {
     "end_time": "2021-06-21T08:08:45.343771Z",
     "start_time": "2021-06-21T08:08:45.328922Z"
    }
   },
   "outputs": [],
   "source": [
    "def net(X):\n",
    "    return softmax(torch.mm(X.view((-1, num_inputs)), W) +b)"
   ]
  },
  {
   "cell_type": "code",
   "execution_count": 6,
   "id": "a83bf4d2",
   "metadata": {
    "ExecuteTime": {
     "end_time": "2021-06-21T08:08:45.359088Z",
     "start_time": "2021-06-21T08:08:45.344770Z"
    }
   },
   "outputs": [],
   "source": [
    "def cross_entropy(y_hat, y):\n",
    "    return - torch.log(y_hat.gather(1, y.view(-1,1)))"
   ]
  },
  {
   "cell_type": "code",
   "execution_count": 7,
   "id": "99a213a5",
   "metadata": {
    "ExecuteTime": {
     "end_time": "2021-06-21T08:08:45.374627Z",
     "start_time": "2021-06-21T08:08:45.359818Z"
    }
   },
   "outputs": [],
   "source": [
    "def accuracy(y_hat, y):\n",
    "    return (y_hat.argmax(dim=1)==y).float().mean().item()"
   ]
  },
  {
   "cell_type": "code",
   "execution_count": 8,
   "id": "20266cb2",
   "metadata": {
    "ExecuteTime": {
     "end_time": "2021-06-21T08:08:45.390685Z",
     "start_time": "2021-06-21T08:08:45.376624Z"
    }
   },
   "outputs": [],
   "source": [
    "def evaluate_accuracy(data_iter,net):\n",
    "    acc_sum, n=0.0, 0\n",
    "    for X, y in data_iter:\n",
    "        acc_sum += (net(X).argmax(dim=1)==y).float().sum().item()\n",
    "        n += y.shape[0]\n",
    "    return acc_sum / n"
   ]
  },
  {
   "cell_type": "code",
   "execution_count": 9,
   "id": "bf969f65",
   "metadata": {
    "ExecuteTime": {
     "end_time": "2021-06-21T08:09:09.920800Z",
     "start_time": "2021-06-21T08:08:45.391584Z"
    }
   },
   "outputs": [
    {
     "name": "stdout",
     "output_type": "stream",
     "text": [
      "epoch 1, loss 0.7874, train acc 0.748, test acc 0.788\n",
      "epoch 2, loss 0.5705, train acc 0.813, test acc 0.810\n",
      "epoch 3, loss 0.5244, train acc 0.826, test acc 0.817\n",
      "epoch 4, loss 0.5005, train acc 0.832, test acc 0.823\n",
      "epoch 5, loss 0.4843, train acc 0.837, test acc 0.828\n"
     ]
    }
   ],
   "source": [
    "num_epochs, lr = 5, 0.1\n",
    "\n",
    "def train_ch3(net, train_iter, test_iter, loss, num_epochs, batch_size, params=None, lr=None, optimizer=None):\n",
    "    for epoch in range(num_epochs):\n",
    "        train_l_sum, train_acc_sum, n = 0.0, 0.0, 0\n",
    "        for X, y in train_iter:\n",
    "            y_hat = net(X)\n",
    "            l = loss(y_hat, y).sum()\n",
    "            \n",
    "            if optimizer is not None:\n",
    "                optimizer.zero_grad()\n",
    "            elif params is not None and params[0].grad is not None:\n",
    "                for param in params:\n",
    "                    param.grad.data.zero_()\n",
    "            \n",
    "            l.backward()\n",
    "            if optimizer is None:\n",
    "                d2l.sgd(params, lr, batch_size)\n",
    "            else:                \n",
    "                optimizer.step()\n",
    "            \n",
    "            \n",
    "            train_l_sum += l.item()\n",
    "            train_acc_sum += (y_hat.argmax(dim=1)==y).sum().item()\n",
    "            n += y.shape[0]\n",
    "        test_acc = evaluate_accuracy(test_iter, net)\n",
    "        print('epoch %d, loss %.4f, train acc %.3f, test acc %.3f'\n",
    "             % (epoch+1, train_l_sum/n, train_acc_sum/n, test_acc))\n",
    "        \n",
    "train_ch3(net, train_iter, test_iter, cross_entropy, num_epochs, batch_size, [W, b], lr)"
   ]
  },
  {
   "cell_type": "code",
   "execution_count": 10,
   "id": "619b86ac",
   "metadata": {
    "ExecuteTime": {
     "end_time": "2021-06-21T08:09:10.597989Z",
     "start_time": "2021-06-21T08:09:09.921799Z"
    }
   },
   "outputs": [
    {
     "name": "stdout",
     "output_type": "stream",
     "text": [
      "0.5\n",
      "0.8275\n"
     ]
    }
   ],
   "source": [
    "y_hat = torch.tensor([[0.3, 0.6, 0.1], [0.3, 0.2, 0.5]])\n",
    "y = torch.LongTensor([0, 2])\n",
    "y_hat.gather(1, y.view(-1, 1))\n",
    "print(accuracy(y_hat, y))\n",
    "print(evaluate_accuracy(test_iter, net))"
   ]
  }
 ],
 "metadata": {
  "kernelspec": {
   "display_name": "Python 3",
   "language": "python",
   "name": "python3"
  },
  "language_info": {
   "codemirror_mode": {
    "name": "ipython",
    "version": 3
   },
   "file_extension": ".py",
   "mimetype": "text/x-python",
   "name": "python",
   "nbconvert_exporter": "python",
   "pygments_lexer": "ipython3",
   "version": "3.8.10"
  },
  "toc": {
   "base_numbering": 1,
   "nav_menu": {},
   "number_sections": true,
   "sideBar": true,
   "skip_h1_title": false,
   "title_cell": "Table of Contents",
   "title_sidebar": "Contents",
   "toc_cell": false,
   "toc_position": {},
   "toc_section_display": true,
   "toc_window_display": false
  },
  "varInspector": {
   "cols": {
    "lenName": 16,
    "lenType": 16,
    "lenVar": 40
   },
   "kernels_config": {
    "python": {
     "delete_cmd_postfix": "",
     "delete_cmd_prefix": "del ",
     "library": "var_list.py",
     "varRefreshCmd": "print(var_dic_list())"
    },
    "r": {
     "delete_cmd_postfix": ") ",
     "delete_cmd_prefix": "rm(",
     "library": "var_list.r",
     "varRefreshCmd": "cat(var_dic_list()) "
    }
   },
   "types_to_exclude": [
    "module",
    "function",
    "builtin_function_or_method",
    "instance",
    "_Feature"
   ],
   "window_display": true
  }
 },
 "nbformat": 4,
 "nbformat_minor": 5
}
